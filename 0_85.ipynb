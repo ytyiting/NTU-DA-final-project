{
  "nbformat": 4,
  "nbformat_minor": 0,
  "metadata": {
    "colab": {
      "provenance": [],
      "collapsed_sections": [
        "KTfAd0HcRGlz",
        "mnmvif6G2EAN",
        "D2hJ3kVdYrlW",
        "a8WZwdDM0Gbh"
      ],
      "gpuType": "T4",
      "machine_shape": "hm",
      "toc_visible": true
    },
    "kernelspec": {
      "name": "python3",
      "display_name": "Python 3"
    },
    "language_info": {
      "name": "python"
    },
    "gpuClass": "standard",
    "accelerator": "GPU"
  },
  "cells": [
    {
      "cell_type": "markdown",
      "source": [
        "# Preparing"
      ],
      "metadata": {
        "id": "Uh3ZZxkYKbV2"
      }
    },
    {
      "cell_type": "code",
      "source": [
        "import pandas as pd\n",
        "import numpy as np\n",
        "import matplotlib.pyplot as plt\n",
        "\n",
        "from sklearn.model_selection import train_test_split\n",
        "import tensorflow as tf\n",
        "from tensorflow import keras\n",
        "from keras import Input\n",
        "from keras.models import Model\n",
        "from keras.layers import Dense, LSTM, Conv1D, Conv2D,\\\n",
        "              Dropout, BatchNormalization, Flatten, Reshape, Concatenate, Bidirectional"
      ],
      "metadata": {
        "id": "e2BcVUquKX2I"
      },
      "execution_count": null,
      "outputs": []
    },
    {
      "cell_type": "code",
      "source": [
        "!gdown 12KgRkqQ1zb_xqP22CbRZozIqpbIRMU2J\n",
        "!gdown 1ZPnD9XJAQdAmtZ4PJWochdHaMXE24vAa\n",
        "!gdown 1LSOMo1WIFaImACF5ufThX5zc7lG-kXVy"
      ],
      "metadata": {
        "colab": {
          "base_uri": "https://localhost:8080/"
        },
        "id": "8DhoZpNdK8XF",
        "outputId": "2cafd6d2-6817-4ffd-c738-d0fe03650526"
      },
      "execution_count": null,
      "outputs": [
        {
          "output_type": "stream",
          "name": "stdout",
          "text": [
            "Downloading...\n",
            "From: https://drive.google.com/uc?id=12KgRkqQ1zb_xqP22CbRZozIqpbIRMU2J\n",
            "To: /content/light_train_source_labels.csv\n",
            "100% 126M/126M [00:01<00:00, 104MB/s]\n",
            "Downloading...\n",
            "From: https://drive.google.com/uc?id=1ZPnD9XJAQdAmtZ4PJWochdHaMXE24vAa\n",
            "To: /content/light_train_target_labels.csv\n",
            "100% 3.58M/3.58M [00:00<00:00, 128MB/s]\n",
            "Downloading...\n",
            "From: https://drive.google.com/uc?id=1LSOMo1WIFaImACF5ufThX5zc7lG-kXVy\n",
            "To: /content/light_test_source_labels.csv\n",
            "100% 31.6M/31.6M [00:00<00:00, 72.7MB/s]\n"
          ]
        }
      ]
    },
    {
      "cell_type": "code",
      "source": [
        "train_source = pd.read_csv(\"light_train_source_labels.csv\")\n",
        "train_target = pd.read_csv(\"light_train_target_labels.csv\")\n",
        "test_source = pd.read_csv(\"light_test_source_labels.csv\")"
      ],
      "metadata": {
        "id": "1MU4Z5EVLU4X"
      },
      "execution_count": null,
      "outputs": []
    },
    {
      "cell_type": "markdown",
      "source": [
        "## Define Functions"
      ],
      "metadata": {
        "id": "45RTksF1RUGg"
      }
    },
    {
      "cell_type": "code",
      "source": [
        "def Draw_Loss_Acc(history):\n",
        "  fig, ax = plt.subplots(1, 2, figsize=(10, 5))\n",
        "\n",
        "  loss = history.history['loss']\n",
        "  val_loss = history.history['val_loss']\n",
        "  epochs = range(1, len(loss) + 1)\n",
        "  ax[0].plot(epochs, loss, 'b', label='Training loss')\n",
        "  ax[0].plot(epochs, val_loss, 'r', label='Validation loss')\n",
        "  ax[0].set_title('Training and validation loss')\n",
        "  ax[0].set_xlabel('Epochs')\n",
        "  ax[0].set_ylabel('Loss')\n",
        "  ax[0].legend()\n",
        "\n",
        "  auc = history.history['auc']\n",
        "  val_auc = history.history['val_auc']\n",
        "  ax[1].plot(epochs, auc, 'b', label='Training acc')\n",
        "  ax[1].plot(epochs, val_auc, 'r', label='Validation acc')\n",
        "  ax[1].set_title('Training and validation accuracy')\n",
        "  ax[1].set_xlabel('Epochs')\n",
        "  ax[1].set_ylabel('Loss')\n",
        "  ax[1].legend()"
      ],
      "metadata": {
        "id": "XtNhAZFBP1uQ"
      },
      "execution_count": null,
      "outputs": []
    },
    {
      "cell_type": "code",
      "source": [
        "def Test_Functional_Model(epochs):\n",
        "  model = Construct_Functional_Model()\n",
        "\n",
        "  history = model.fit(x_train, y_train, batch_size=256, epochs=epochs, validation_data=(x_valid, y_valid))\n",
        "\n",
        "  print(\"\\nLocal Test:\")\n",
        "  model.evaluate(x_test, y_test)\n",
        "  \n",
        "  print(\"\\n\\nLoss/AUC Graph:\")\n",
        "  Draw_Loss_Acc(history)\n",
        "\n",
        "  return model, history"
      ],
      "metadata": {
        "id": "S09KzeGJQPqn"
      },
      "execution_count": null,
      "outputs": []
    },
    {
      "cell_type": "code",
      "source": [
        "def Refit_Model(epochs):\n",
        "  model = Construct_Functional_Model()\n",
        "  history = model.fit(X, y, batch_size=256, epochs=epochs)\n",
        "  \n",
        "  return model, history"
      ],
      "metadata": {
        "id": "cYBxsEmZSrgm"
      },
      "execution_count": null,
      "outputs": []
    },
    {
      "cell_type": "markdown",
      "source": [
        "## Load Data"
      ],
      "metadata": {
        "id": "KTfAd0HcRGlz"
      }
    },
    {
      "cell_type": "code",
      "source": [
        "X = train_source.iloc[:, 1:].to_numpy()\n",
        "y = train_target.iloc[:, 1:].to_numpy()\n",
        "\n",
        "# train : valid : test = 0.8 : 0.1 : 0.1\n",
        "x_train, x_test, y_train, y_test = train_test_split(X, y, test_size=0.2, random_state=0)\n",
        "x_valid, x_test, y_valid, y_test = train_test_split(x_test, y_test, test_size=0.5, random_state=0)"
      ],
      "metadata": {
        "id": "-YOFEZocMFro"
      },
      "execution_count": null,
      "outputs": []
    },
    {
      "cell_type": "markdown",
      "source": [
        "# Training"
      ],
      "metadata": {
        "id": "eh6WbnRZNzPB"
      }
    },
    {
      "cell_type": "markdown",
      "source": [
        "## Model Structure"
      ],
      "metadata": {
        "id": "ynO1oXVlSHc6"
      }
    },
    {
      "cell_type": "markdown",
      "source": [
        "### LSTM"
      ],
      "metadata": {
        "id": "mnmvif6G2EAN"
      }
    },
    {
      "cell_type": "code",
      "source": [
        "def Construct_Functional_Model():\n",
        "  tf.keras.backend.clear_session()\n",
        "\n",
        "\n",
        "  # Model Structure \n",
        "  input = Input(shape=(1036))\n",
        "  reshaped = Reshape((37, 28))(input)\n",
        "\n",
        "  lstm_1 = LSTM(48, dropout=0.375, recurrent_dropout=0.375, return_sequences=True)(reshaped)\n",
        "  lstm_2 = LSTM(48, dropout=0.375, recurrent_dropout=0.375, return_sequences=True)(lstm_1)\n",
        "  predictions = LSTM(28, activation='sigmoid')(lstm_2)\n",
        "\n",
        "  model = Model(input, predictions)\n",
        "  # Model Structure \n",
        "  \n",
        "\n",
        "  model.compile(optimizer='adam', loss = 'binary_crossentropy', metrics=[keras.metrics.AUC()])\n",
        "  print(model.summary())\n",
        "  return model"
      ],
      "metadata": {
        "id": "NtPRq83U2FRy"
      },
      "execution_count": null,
      "outputs": []
    },
    {
      "cell_type": "markdown",
      "source": [
        "### LSTM + NN"
      ],
      "metadata": {
        "id": "D2hJ3kVdYrlW"
      }
    },
    {
      "cell_type": "code",
      "source": [
        "def Construct_Functional_Model():\n",
        "  tf.keras.backend.clear_session()\n",
        "\n",
        "\n",
        "  # Model Structure \n",
        "  input = Input(shape=(1036))\n",
        "  reshaped = Reshape((37, 28))(input)\n",
        "\n",
        "  lstm = LSTM(48, dropout=0.375)(reshaped)\n",
        "  nn = Dense(128, activation='sigmoid')(lstm)\n",
        "  predictions = Dense(28, activation='sigmoid')(nn)\n",
        "\n",
        "  model = Model(input, predictions)\n",
        "  # Model Structure \n",
        "  \n",
        "\n",
        "  model.compile(optimizer='adam', loss = 'binary_crossentropy', metrics=[keras.metrics.AUC()])\n",
        "  print(model.summary())\n",
        "  return model"
      ],
      "metadata": {
        "id": "OIWzTSsfYvDF"
      },
      "execution_count": null,
      "outputs": []
    },
    {
      "cell_type": "code",
      "source": [
        "def Construct_Functional_Model():\n",
        "  tf.keras.backend.clear_session()\n",
        "\n",
        "\n",
        "  # Model Structure \n",
        "  input = Input(shape=(1036))\n",
        "\n",
        "  nn = Dense(128, activation='sigmoid')(input)\n",
        "  drop_1 = Dropout(0.5)(nn)\n",
        "  nn1 = Dense(128, activation='sigmoid')(drop_1)\n",
        "\n",
        "  predictions = Dense(28, activation='sigmoid')(nn1)\n",
        "\n",
        "  model = Model(input, predictions)\n",
        "  # Model Structure \n",
        "  \n",
        "\n",
        "  model.compile(optimizer='adam', loss = 'binary_crossentropy', metrics=[keras.metrics.AUC()])\n",
        "  print(model.summary())\n",
        "  return model"
      ],
      "metadata": {
        "id": "cr3r4AoWu8TG"
      },
      "execution_count": null,
      "outputs": []
    },
    {
      "cell_type": "markdown",
      "source": [
        "#### Model X (1 ~ 5 / 6 ~ 7 分開預測)"
      ],
      "metadata": {
        "id": "APgijKlSqb8F"
      }
    },
    {
      "cell_type": "code",
      "source": [
        "def Construct_Functional_Model():\n",
        "  tf.keras.backend.clear_session()\n",
        "\n",
        "\n",
        "  # Model Structure \n",
        "  input = Input(shape=(1036))\n",
        "  reshaped = Reshape((37, 28))(input)\n",
        "\n",
        "  lstm_1 = LSTM(24, dropout=0.375)(reshaped)\n",
        "  lstm_2 = LSTM(24, dropout=0.375)(reshaped)\n",
        "  \n",
        "  merged = Concatenate()([lstm_1, lstm_2])\n",
        "  nn = Dense(96, activation='relu')(merged)\n",
        "\n",
        "  weekday_predictions = Dense(20, activation='sigmoid')(nn)\n",
        "  weekend_predictions = Dense(8, activation='sigmoid')(nn)\n",
        "\n",
        "  predictions = Concatenate()([weekday_predictions, weekend_predictions])\n",
        "\n",
        "  model = Model(input, predictions)\n",
        "  # Model Structure \n",
        "  \n",
        "\n",
        "  model.compile(optimizer='adam', loss = 'binary_crossentropy', metrics=[keras.metrics.AUC(1000)])\n",
        "  print(model.summary())\n",
        "  return model"
      ],
      "metadata": {
        "id": "EJFO3PkYqj3y"
      },
      "execution_count": null,
      "outputs": []
    },
    {
      "cell_type": "code",
      "source": [
        "def Construct_Functional_Model():\n",
        "  tf.keras.backend.clear_session()\n",
        "\n",
        "\n",
        "  # Model Structure \n",
        "  input = Input(shape=(1036))\n",
        "  reshaped = Reshape((1, 1036))(input)\n",
        "\n",
        "  lstm_1 = LSTM(24, return_sequences=True,dropout=0.375)( reshaped)\n",
        "  lstm_2 = LSTM(24, return_sequences=True,dropout=0.375)( reshaped)\n",
        "  \n",
        "  merged = Concatenate(axis=-1)([lstm_1, lstm_2])\n",
        "\n",
        "  predictions = LSTM (28, activation='sigmoid')(merged)\n",
        "  model = Model(input, predictions)\n",
        "  # Model Structure \n",
        "  \n",
        "\n",
        "  model.compile(optimizer='adam', loss = 'binary_crossentropy', metrics=[keras.metrics.AUC(1000)])\n",
        "  print(model.summary())\n",
        "  return model"
      ],
      "metadata": {
        "id": "jzQEvhi_H4z3"
      },
      "execution_count": null,
      "outputs": []
    },
    {
      "cell_type": "markdown",
      "source": [
        "### 1D-CNN"
      ],
      "metadata": {
        "id": "72s1iOs1bZ5q"
      }
    },
    {
      "cell_type": "code",
      "source": [
        "def Construct_Functional_Model():\n",
        "  tf.keras.backend.clear_session()\n",
        "\n",
        "\n",
        "  # Model Structure \n",
        "  input = Input(shape=(1036))\n",
        "  reshaped = Reshape((259, 4))(input)\n",
        "\n",
        "  cnn_1 = Conv1D(filters=32, kernel_size=32, strides=2, activation='relu', padding=\"same\", data_format=\"channels_last\")(reshaped)\n",
        "  drop_1 = Dropout(0.5)(cnn_1)\n",
        "  cnn_2 = Conv1D(filters=16, kernel_size=32, strides=2, activation='sigmoid', padding=\"same\", data_format=\"channels_last\")(drop_1)\n",
        "  drop_2 = Dropout(0.5)(cnn_2)\n",
        "\n",
        "  flatten = Flatten()(drop_2)\n",
        "\n",
        "  predictions = Dense(28, activation='sigmoid')(flatten)\n",
        "\n",
        "  model = Model(input, predictions)\n",
        "  # Model Structure \n",
        "  \n",
        "\n",
        "  model.compile(optimizer='adam', loss = 'binary_crossentropy', metrics=[keras.metrics.AUC()])\n",
        "  print(model.summary())\n",
        "  return model"
      ],
      "metadata": {
        "id": "4Cbdg0HXh-ok"
      },
      "execution_count": null,
      "outputs": []
    },
    {
      "cell_type": "markdown",
      "source": [
        "### 2D-CNN + LSTM"
      ],
      "metadata": {
        "id": "i-oFHtuLYvYI"
      }
    },
    {
      "cell_type": "code",
      "source": [
        "def Construct_Functional_Model():\n",
        "  tf.keras.backend.clear_session()\n",
        "\n",
        "\n",
        "  # Model Structure \n",
        "  input = Input(shape=(1036))\n",
        "  reshaped = Reshape((37, 7, 4))(input)\n",
        "\n",
        "  cnn_1 = Conv2D(filters=32, kernel_size=(16, 1), strides=(2, 1), activation='relu', padding=\"same\", data_format=\"channels_last\")(reshaped)\n",
        "  drop_1 = Dropout(0.5)(cnn_1)\n",
        "  cnn_2 = Conv2D(filters=16, kernel_size=(16, 1), strides=(2, 1), activation='relu', padding=\"same\", data_format=\"channels_last\")(drop_1)\n",
        "  drop_2 = Dropout(0.5)(cnn_2)\n",
        "  reshaped_1 = Reshape((10, 7*16))(drop_2)\n",
        "  lstm = LSTM(32, dropout=0.375, recurrent_dropout=0.375)(reshaped_1)\n",
        "\n",
        "  predictions = Dense(28, activation='sigmoid')(lstm)\n",
        "\n",
        "  model = Model(input, predictions)\n",
        "  # Model Structure \n",
        "  \n",
        "\n",
        "  model.compile(optimizer='adam', loss = 'binary_crossentropy', metrics=[keras.metrics.AUC()])\n",
        "  print(model.summary())\n",
        "  return model"
      ],
      "metadata": {
        "id": "MxBwBo2fD46g"
      },
      "execution_count": null,
      "outputs": []
    },
    {
      "cell_type": "markdown",
      "source": [
        "### Ultra CNN (1D-CNN + 2D-CNN)"
      ],
      "metadata": {
        "id": "iT5ptYKBh6uU"
      }
    },
    {
      "cell_type": "code",
      "source": [
        "def Construct_Functional_Model():\n",
        "  tf.keras.backend.clear_session()\n",
        "\n",
        "\n",
        "  # Model Structure \n",
        "  input = Input(shape=(1036))\n",
        "\n",
        "  reshaped_1 = Reshape((259, 4))(input)\n",
        "  cnn_11 = Conv1D(filters=32, kernel_size=32, strides=2, activation='relu', padding=\"same\", data_format=\"channels_last\")(reshaped_1)\n",
        "  drop_11 = Dropout(0.5)(cnn_11)\n",
        "  cnn_12 = Conv1D(filters=16, kernel_size=16, strides=2, activation='sigmoid', padding=\"same\", data_format=\"channels_last\")(drop_11)\n",
        "  drop_12 = Dropout(0.5)(cnn_12)\n",
        "  flatten_1 = Flatten()(drop_12)\n",
        "\n",
        "  reshaped_2 = Reshape((37, 7, 4))(input)\n",
        "  cnn_21 = Conv2D(filters=32, kernel_size=(16, 1), strides=(2, 1), activation='relu', padding=\"same\", data_format=\"channels_last\")(reshaped_2)\n",
        "  drop_21 = Dropout(0.5)(cnn_21)\n",
        "  cnn_22 = Conv2D(filters=16, kernel_size=(16, 1), strides=(2, 1), activation='sigmoid', padding=\"same\", data_format=\"channels_last\")(drop_21)\n",
        "  drop_22 = Dropout(0.5)(cnn_22)\n",
        "  flatten_2 = Flatten()(drop_22)\n",
        "\n",
        "  merged = Concatenate()([flatten_1, flatten_2])\n",
        "  nn = Dense(128, activation='sigmoid')(merged)\n",
        "  drop = Dropout(0.5)(nn)\n",
        "  predictions = Dense(28, activation='sigmoid')(drop)\n",
        "\n",
        "  model = Model(input, predictions)\n",
        "  # Model Structure \n",
        "  \n",
        "\n",
        "  model.compile(optimizer='adam', loss = 'binary_crossentropy', metrics=[keras.metrics.AUC()])\n",
        "  print(model.summary())\n",
        "  return model"
      ],
      "metadata": {
        "id": "q1VDtUZCH86I"
      },
      "execution_count": null,
      "outputs": []
    },
    {
      "cell_type": "code",
      "source": [
        "def CNN_Week(input, num_of_filters, num_of_weeks):\n",
        "  cnn = Conv1D(filters=num_of_filters, kernel_size=num_of_weeks*7, strides=7, activation='relu', padding='same', data_format='channels_last')(input)\n",
        "  return Dropout(0.5)(cnn)\n",
        "\n",
        "def CNN_1D(input):\n",
        "\n",
        "  cnn_2 = CNN_Week(Reshape((259, 4))(input), 16, 2)\n",
        "  cnn_3 = CNN_Week(Reshape((259, 4))(input), 16, 3)\n",
        "  cnn_4 = CNN_Week(Reshape((259, 4))(input), 16, 4)\n",
        "  \n",
        "  lstm = LSTM(32, dropout=0.375, recurrent_dropout=0.375, return_sequences=True)(Reshape((37, 28))(input))\n",
        "  merged = Concatenate(axis=-1)([cnn_2, cnn_3, cnn_4, lstm])\n",
        "\n",
        "  predictions = LSTM(28, activation='sigmoid')(merged)\n",
        "\n",
        "  return predictions\n",
        "\n",
        "def CNN_2D(input):\n",
        "  reshaped = Reshape((37, 7, 4))(input)\n",
        "\n",
        "  cnn_1 = Conv2D(filters=32, kernel_size=(16, 1), strides=(2, 1), activation='relu', padding=\"same\", data_format=\"channels_last\")(reshaped)\n",
        "  drop_1 = Dropout(0.5)(cnn_1)\n",
        "  cnn_2 = Conv2D(filters=16, kernel_size=(16, 1), strides=(2, 1), activation='relu', padding=\"same\", data_format=\"channels_last\")(drop_1)\n",
        "  drop_2 = Dropout(0.5)(cnn_2)\n",
        "  \n",
        "  reshaped_1 = Reshape((10, 7*16))(drop_2)\n",
        "  lstm = LSTM(32, dropout=0.375, recurrent_dropout=0.375, return_sequences=True)(reshaped_1)\n",
        "\n",
        "  predictions = LSTM(28, activation='sigmoid')(lstm)\n",
        "  \n",
        "  return predictions\n",
        "\n",
        "\n",
        "def Construct_Functional_Model():\n",
        "  tf.keras.backend.clear_session()\n",
        "\n",
        "\n",
        "  # Model Structure \n",
        "  input = Input(shape=(1036))\n",
        "\n",
        "  cnn_1 = CNN_1D(input)\n",
        "  cnn_2 = CNN_2D(input)\n",
        " \n",
        "  merged = Concatenate()([cnn_1, cnn_2])\n",
        "  predictions = Dense(28, activation='sigmoid')(merged)\n",
        "\n",
        "  model = Model(input, predictions)\n",
        "  # Model Structure \n",
        "  \n",
        "\n",
        "  model.compile(optimizer='adam', loss = 'binary_crossentropy', metrics=[keras.metrics.AUC()])\n",
        "  print(model.summary())\n",
        "  return model"
      ],
      "metadata": {
        "id": "iCG3jFlvgCko"
      },
      "execution_count": null,
      "outputs": []
    },
    {
      "cell_type": "code",
      "source": [
        "def Construct_Functional_Model():\n",
        "  tf.keras.backend.clear_session()\n",
        "\n",
        "\n",
        "  # Model Structure \n",
        "  input = Input(shape=(1036))\n",
        "\n",
        "  reshaped_1 = Reshape((259, 4))(input)\n",
        "  cnn_11 = Conv1D(filters=32, kernel_size=35, strides=7, activation='relu', padding=\"same\", data_format=\"channels_last\")(reshaped_1)\n",
        "  drop_11 = Dropout(0.5)(cnn_11)\n",
        "  cnn_12 = Conv1D(filters=16, kernel_size=35, strides=1, activation='sigmoid', padding=\"same\", data_format=\"channels_last\")(drop_11)\n",
        "  drop_12 = Dropout(0.5)(cnn_12)\n",
        "  flatten_1 = Flatten()(drop_12)\n",
        "\n",
        "  reshaped_2 = Reshape((37, 7, 4))(input)\n",
        "  cnn_21 = Conv2D(filters=32, kernel_size=(16, 1), strides=(2, 1), activation='relu', padding=\"same\", data_format=\"channels_last\")(reshaped_2)\n",
        "  drop_21 = Dropout(0.5)(cnn_21)\n",
        "  cnn_22 = Conv2D(filters=16, kernel_size=(16, 1), strides=(2, 1), activation='sigmoid', padding=\"same\", data_format=\"channels_last\")(drop_21)\n",
        "  drop_22 = Dropout(0.5)(cnn_22)\n",
        "  flatten_2 = Flatten()(drop_22)\n",
        "\n",
        "  merged = Concatenate()([flatten_1, flatten_2])\n",
        "  nn = Dense(128, activation='sigmoid')(merged)\n",
        "  drop = Dropout(0.5)(nn)\n",
        "  predictions = Dense(28, activation='sigmoid')(drop)\n",
        "\n",
        "  model = Model(input, predictions)\n",
        "  # Model Structure \n",
        "  \n",
        "\n",
        "  model.compile(optimizer='adam', loss = 'binary_crossentropy', metrics=[keras.metrics.AUC()])\n",
        "  print(model.summary())\n",
        "  return model"
      ],
      "metadata": {
        "id": "k8URyHmeyv32"
      },
      "execution_count": null,
      "outputs": []
    },
    {
      "cell_type": "markdown",
      "source": [
        "### Transformer (沒用，放著作紀念)"
      ],
      "metadata": {
        "id": "a8WZwdDM0Gbh"
      }
    },
    {
      "cell_type": "code",
      "source": [
        "from keras import layers\n",
        "\n",
        "def transformer_encoder(inputs, head_size, num_heads, ff_dim, dropout=0):\n",
        "    # Normalization and Attention\n",
        "    x = layers.LayerNormalization(epsilon=1e-6)(inputs)\n",
        "    x = layers.MultiHeadAttention(\n",
        "        key_dim=head_size, num_heads=num_heads, dropout=dropout\n",
        "    )(x, x)\n",
        "    x = layers.Dropout(dropout)(x)\n",
        "    res = x + inputs\n",
        "\n",
        "    # Feed Forward Part\n",
        "    x = layers.LayerNormalization(epsilon=1e-6)(res)\n",
        "    x = layers.Conv1D(filters=ff_dim, kernel_size=1, activation=\"relu\")(x)\n",
        "    x = layers.Dropout(dropout)(x)\n",
        "    x = layers.Conv1D(filters=inputs.shape[-1], kernel_size=1)(x)\n",
        "    return x + res\n",
        "\n",
        "\n",
        "def build_model(head_size, num_heads, ff_dim, num_transformer_blocks, mlp_units, dropout=0, mlp_dropout=0,):\n",
        "    input = Input(shape=(1036))\n",
        "    reshaped = Reshape((37, 28))(input)\n",
        "\n",
        "    x = reshaped\n",
        "    for _ in range(num_transformer_blocks):\n",
        "        x = transformer_encoder(x, head_size, num_heads, ff_dim, dropout)\n",
        "\n",
        "    x = layers.GlobalAveragePooling1D(data_format=\"channels_last\")(x)\n",
        "    for dim in mlp_units:\n",
        "        x = layers.Dense(dim, activation=\"relu\")(x)\n",
        "        x = layers.Dropout(mlp_dropout)(x)\n",
        "\n",
        "    outputs = layers.Dense(28, activation=\"sigmoid\")(x)\n",
        "    return keras.Model(input, outputs)\n",
        "\n",
        "\n",
        "def Construct_Functional_Model():\n",
        "  tf.keras.backend.clear_session()\n",
        "\n",
        "  # Model Structure \n",
        "  model = build_model(head_size=128, num_heads=4, ff_dim=16, num_transformer_blocks=2, mlp_units=[64], mlp_dropout=0.375, dropout=0.2,)\n",
        "  \n",
        "  # Model Structure \n",
        "  \n",
        "  model.compile(optimizer='adam', loss = 'binary_crossentropy', metrics=[keras.metrics.AUC()])\n",
        "  print(model.summary())\n",
        "  return model "
      ],
      "metadata": {
        "id": "Y4gEjx8F0S1H"
      },
      "execution_count": null,
      "outputs": []
    },
    {
      "cell_type": "markdown",
      "source": [
        "## Training, Validating, and Testing"
      ],
      "metadata": {
        "id": "qpVA81E4SK6u"
      }
    },
    {
      "cell_type": "code",
      "source": [
        "epochs = 50\n",
        "model, history = Test_Functional_Model(epochs)"
      ],
      "metadata": {
        "colab": {
          "base_uri": "https://localhost:8080/",
          "height": 1000
        },
        "id": "cuPZsgzYQeE-",
        "outputId": "eae7d698-0d00-4653-ab71-bf8bc2743068"
      },
      "execution_count": null,
      "outputs": [
        {
          "output_type": "stream",
          "name": "stderr",
          "text": [
            "WARNING:tensorflow:Layer lstm_2 will not use cuDNN kernels since it doesn't meet the criteria. It will use a generic GPU kernel as fallback when running on GPU.\n"
          ]
        },
        {
          "output_type": "stream",
          "name": "stdout",
          "text": [
            "Model: \"model\"\n",
            "__________________________________________________________________________________________________\n",
            " Layer (type)                   Output Shape         Param #     Connected to                     \n",
            "==================================================================================================\n",
            " input_1 (InputLayer)           [(None, 1036)]       0           []                               \n",
            "                                                                                                  \n",
            " reshape (Reshape)              (None, 1, 1036)      0           ['input_1[0][0]']                \n",
            "                                                                                                  \n",
            " lstm (LSTM)                    (None, 1, 24)        101856      ['reshape[0][0]']                \n",
            "                                                                                                  \n",
            " lstm_1 (LSTM)                  (None, 1, 24)        101856      ['reshape[0][0]']                \n",
            "                                                                                                  \n",
            " concatenate (Concatenate)      (None, 1, 48)        0           ['lstm[0][0]',                   \n",
            "                                                                  'lstm_1[0][0]']                 \n",
            "                                                                                                  \n",
            " lstm_2 (LSTM)                  (None, 28)           8624        ['concatenate[0][0]']            \n",
            "                                                                                                  \n",
            "==================================================================================================\n",
            "Total params: 212,336\n",
            "Trainable params: 212,336\n",
            "Non-trainable params: 0\n",
            "__________________________________________________________________________________________________\n",
            "None\n",
            "Epoch 1/50\n",
            "96/96 [==============================] - 6s 18ms/step - loss: 0.3910 - auc: 0.7038 - val_loss: 0.3620 - val_auc: 0.7468\n",
            "Epoch 2/50\n",
            "96/96 [==============================] - 1s 8ms/step - loss: 0.3517 - auc: 0.7673 - val_loss: 0.3436 - val_auc: 0.7824\n",
            "Epoch 3/50\n",
            "96/96 [==============================] - 1s 8ms/step - loss: 0.3359 - auc: 0.7949 - val_loss: 0.3316 - val_auc: 0.8015\n",
            "Epoch 4/50\n",
            "96/96 [==============================] - 1s 8ms/step - loss: 0.3257 - auc: 0.8108 - val_loss: 0.3243 - val_auc: 0.8129\n",
            "Epoch 5/50\n",
            "96/96 [==============================] - 1s 8ms/step - loss: 0.3194 - auc: 0.8205 - val_loss: 0.3200 - val_auc: 0.8195\n",
            "Epoch 6/50\n",
            "96/96 [==============================] - 1s 8ms/step - loss: 0.3154 - auc: 0.8264 - val_loss: 0.3173 - val_auc: 0.8231\n",
            "Epoch 7/50\n",
            "96/96 [==============================] - 1s 8ms/step - loss: 0.3125 - auc: 0.8305 - val_loss: 0.3159 - val_auc: 0.8249\n",
            "Epoch 8/50\n",
            "96/96 [==============================] - 1s 8ms/step - loss: 0.3108 - auc: 0.8326 - val_loss: 0.3149 - val_auc: 0.8263\n",
            "Epoch 9/50\n",
            "96/96 [==============================] - 1s 8ms/step - loss: 0.3093 - auc: 0.8346 - val_loss: 0.3140 - val_auc: 0.8276\n",
            "Epoch 10/50\n",
            "96/96 [==============================] - 1s 8ms/step - loss: 0.3082 - auc: 0.8362 - val_loss: 0.3137 - val_auc: 0.8279\n",
            "Epoch 11/50\n",
            "96/96 [==============================] - 1s 8ms/step - loss: 0.3071 - auc: 0.8377 - val_loss: 0.3133 - val_auc: 0.8285\n",
            "Epoch 12/50\n",
            "96/96 [==============================] - 1s 8ms/step - loss: 0.3062 - auc: 0.8390 - val_loss: 0.3135 - val_auc: 0.8282\n",
            "Epoch 13/50\n",
            "96/96 [==============================] - 1s 9ms/step - loss: 0.3056 - auc: 0.8398 - val_loss: 0.3130 - val_auc: 0.8289\n",
            "Epoch 14/50\n",
            "96/96 [==============================] - 1s 9ms/step - loss: 0.3045 - auc: 0.8413 - val_loss: 0.3133 - val_auc: 0.8289\n",
            "Epoch 15/50\n",
            "96/96 [==============================] - 1s 11ms/step - loss: 0.3039 - auc: 0.8420 - val_loss: 0.3128 - val_auc: 0.8292\n",
            "Epoch 16/50\n",
            "96/96 [==============================] - 1s 9ms/step - loss: 0.3031 - auc: 0.8432 - val_loss: 0.3125 - val_auc: 0.8294\n",
            "Epoch 17/50\n",
            "96/96 [==============================] - 1s 12ms/step - loss: 0.3022 - auc: 0.8445 - val_loss: 0.3125 - val_auc: 0.8294\n",
            "Epoch 18/50\n",
            "96/96 [==============================] - 1s 11ms/step - loss: 0.3016 - auc: 0.8453 - val_loss: 0.3127 - val_auc: 0.8294\n",
            "Epoch 19/50\n",
            "96/96 [==============================] - 1s 10ms/step - loss: 0.3009 - auc: 0.8463 - val_loss: 0.3128 - val_auc: 0.8293\n",
            "Epoch 20/50\n",
            "96/96 [==============================] - 1s 8ms/step - loss: 0.3003 - auc: 0.8471 - val_loss: 0.3126 - val_auc: 0.8296\n",
            "Epoch 21/50\n",
            "96/96 [==============================] - 1s 8ms/step - loss: 0.2993 - auc: 0.8485 - val_loss: 0.3125 - val_auc: 0.8294\n",
            "Epoch 22/50\n",
            "96/96 [==============================] - 1s 8ms/step - loss: 0.2989 - auc: 0.8490 - val_loss: 0.3126 - val_auc: 0.8296\n",
            "Epoch 23/50\n",
            "96/96 [==============================] - 1s 8ms/step - loss: 0.2983 - auc: 0.8498 - val_loss: 0.3128 - val_auc: 0.8295\n",
            "Epoch 24/50\n",
            "96/96 [==============================] - 1s 8ms/step - loss: 0.2977 - auc: 0.8507 - val_loss: 0.3127 - val_auc: 0.8295\n",
            "Epoch 25/50\n",
            "96/96 [==============================] - 1s 8ms/step - loss: 0.2968 - auc: 0.8519 - val_loss: 0.3130 - val_auc: 0.8293\n",
            "Epoch 26/50\n",
            "96/96 [==============================] - 1s 8ms/step - loss: 0.2960 - auc: 0.8530 - val_loss: 0.3130 - val_auc: 0.8291\n",
            "Epoch 27/50\n",
            "96/96 [==============================] - 1s 9ms/step - loss: 0.2956 - auc: 0.8536 - val_loss: 0.3135 - val_auc: 0.8287\n",
            "Epoch 28/50\n",
            "96/96 [==============================] - 1s 9ms/step - loss: 0.2949 - auc: 0.8545 - val_loss: 0.3134 - val_auc: 0.8286\n",
            "Epoch 29/50\n",
            "96/96 [==============================] - 1s 9ms/step - loss: 0.2945 - auc: 0.8551 - val_loss: 0.3134 - val_auc: 0.8288\n",
            "Epoch 30/50\n",
            "96/96 [==============================] - 1s 9ms/step - loss: 0.2937 - auc: 0.8561 - val_loss: 0.3136 - val_auc: 0.8288\n",
            "Epoch 31/50\n",
            "96/96 [==============================] - 1s 9ms/step - loss: 0.2930 - auc: 0.8570 - val_loss: 0.3136 - val_auc: 0.8289\n",
            "Epoch 32/50\n",
            "96/96 [==============================] - 1s 8ms/step - loss: 0.2922 - auc: 0.8580 - val_loss: 0.3139 - val_auc: 0.8284\n",
            "Epoch 33/50\n",
            "96/96 [==============================] - 1s 8ms/step - loss: 0.2920 - auc: 0.8584 - val_loss: 0.3140 - val_auc: 0.8284\n",
            "Epoch 34/50\n",
            "96/96 [==============================] - 1s 8ms/step - loss: 0.2915 - auc: 0.8592 - val_loss: 0.3144 - val_auc: 0.8281\n",
            "Epoch 35/50\n",
            "96/96 [==============================] - 1s 8ms/step - loss: 0.2908 - auc: 0.8601 - val_loss: 0.3146 - val_auc: 0.8281\n",
            "Epoch 36/50\n",
            "96/96 [==============================] - 1s 8ms/step - loss: 0.2901 - auc: 0.8610 - val_loss: 0.3145 - val_auc: 0.8278\n",
            "Epoch 37/50\n",
            "96/96 [==============================] - 1s 8ms/step - loss: 0.2896 - auc: 0.8617 - val_loss: 0.3149 - val_auc: 0.8278\n",
            "Epoch 38/50\n",
            "96/96 [==============================] - 1s 8ms/step - loss: 0.2889 - auc: 0.8627 - val_loss: 0.3149 - val_auc: 0.8275\n",
            "Epoch 39/50\n",
            "96/96 [==============================] - 1s 8ms/step - loss: 0.2883 - auc: 0.8634 - val_loss: 0.3155 - val_auc: 0.8271\n",
            "Epoch 40/50\n",
            "96/96 [==============================] - 1s 8ms/step - loss: 0.2879 - auc: 0.8638 - val_loss: 0.3154 - val_auc: 0.8272\n",
            "Epoch 41/50\n",
            "96/96 [==============================] - 1s 8ms/step - loss: 0.2874 - auc: 0.8646 - val_loss: 0.3160 - val_auc: 0.8268\n",
            "Epoch 42/50\n",
            "96/96 [==============================] - 1s 8ms/step - loss: 0.2866 - auc: 0.8656 - val_loss: 0.3161 - val_auc: 0.8265\n",
            "Epoch 43/50\n",
            "96/96 [==============================] - 1s 9ms/step - loss: 0.2862 - auc: 0.8661 - val_loss: 0.3163 - val_auc: 0.8263\n",
            "Epoch 44/50\n",
            "96/96 [==============================] - 1s 9ms/step - loss: 0.2857 - auc: 0.8666 - val_loss: 0.3166 - val_auc: 0.8260\n",
            "Epoch 45/50\n",
            "96/96 [==============================] - 1s 9ms/step - loss: 0.2852 - auc: 0.8674 - val_loss: 0.3171 - val_auc: 0.8256\n",
            "Epoch 46/50\n",
            "96/96 [==============================] - 1s 8ms/step - loss: 0.2845 - auc: 0.8682 - val_loss: 0.3173 - val_auc: 0.8255\n",
            "Epoch 47/50\n",
            "96/96 [==============================] - 1s 8ms/step - loss: 0.2843 - auc: 0.8684 - val_loss: 0.3174 - val_auc: 0.8253\n",
            "Epoch 48/50\n",
            "96/96 [==============================] - 1s 8ms/step - loss: 0.2835 - auc: 0.8695 - val_loss: 0.3176 - val_auc: 0.8256\n",
            "Epoch 49/50\n",
            "96/96 [==============================] - 1s 8ms/step - loss: 0.2831 - auc: 0.8701 - val_loss: 0.3180 - val_auc: 0.8251\n",
            "Epoch 50/50\n",
            "96/96 [==============================] - 1s 8ms/step - loss: 0.2825 - auc: 0.8707 - val_loss: 0.3184 - val_auc: 0.8249\n",
            "\n",
            "Local Test:\n",
            "96/96 [==============================] - 0s 3ms/step - loss: 0.3149 - auc: 0.8244\n",
            "\n",
            "\n",
            "Loss/AUC Graph:\n"
          ]
        },
        {
          "output_type": "display_data",
          "data": {
            "text/plain": [
              "<Figure size 1000x500 with 2 Axes>"
            ],
            "image/png": "[encoded data removed]"
          },
          "metadata": {}
        }
      ]
    },
    {
      "cell_type": "markdown",
      "source": [
        "# Output Prediciton"
      ],
      "metadata": {
        "id": "TnPdcZ6xN06W"
      }
    },
    {
      "cell_type": "markdown",
      "source": [
        "## Refit on All Data"
      ],
      "metadata": {
        "id": "ji3UJhU9SaL2"
      }
    },
    {
      "cell_type": "code",
      "source": [
        "model, history = Refit_Model(epochs)"
      ],
      "metadata": {
        "id": "FOYPMoVqSWdq",
        "colab": {
          "base_uri": "https://localhost:8080/"
        },
        "outputId": "85dd8f62-d9f2-4455-f971-23d9e39d7b24"
      },
      "execution_count": null,
      "outputs": [
        {
          "output_type": "stream",
          "name": "stdout",
          "text": [
            "Model: \"model\"\n",
            "_________________________________________________________________\n",
            " Layer (type)                Output Shape              Param #   \n",
            "=================================================================\n",
            " input_1 (InputLayer)        [(None, 1036)]            0         \n",
            "                                                                 \n",
            " dense (Dense)               (None, 128)               132736    \n",
            "                                                                 \n",
            " dropout (Dropout)           (None, 128)               0         \n",
            "                                                                 \n",
            " dense_1 (Dense)             (None, 128)               16512     \n",
            "                                                                 \n",
            " dense_2 (Dense)             (None, 28)                3612      \n",
            "                                                                 \n",
            "=================================================================\n",
            "Total params: 152,860\n",
            "Trainable params: 152,860\n",
            "Non-trainable params: 0\n",
            "_________________________________________________________________\n",
            "None\n",
            "Epoch 1/50\n",
            "119/119 [==============================] - 3s 6ms/step - loss: 0.3870 - auc: 0.6908\n",
            "Epoch 2/50\n",
            "119/119 [==============================] - 1s 7ms/step - loss: 0.3440 - auc: 0.7761\n",
            "Epoch 3/50\n",
            "119/119 [==============================] - 1s 7ms/step - loss: 0.3300 - auc: 0.8012\n",
            "Epoch 4/50\n",
            "119/119 [==============================] - 1s 7ms/step - loss: 0.3232 - auc: 0.8119\n",
            "Epoch 5/50\n",
            "119/119 [==============================] - 1s 6ms/step - loss: 0.3187 - auc: 0.8192\n",
            "Epoch 6/50\n",
            "119/119 [==============================] - 1s 5ms/step - loss: 0.3153 - auc: 0.8242\n",
            "Epoch 7/50\n",
            "119/119 [==============================] - 1s 4ms/step - loss: 0.3133 - auc: 0.8269\n",
            "Epoch 8/50\n",
            "119/119 [==============================] - 1s 4ms/step - loss: 0.3117 - auc: 0.8291\n",
            "Epoch 9/50\n",
            "119/119 [==============================] - 0s 4ms/step - loss: 0.3103 - auc: 0.8310\n",
            "Epoch 10/50\n",
            "119/119 [==============================] - 0s 4ms/step - loss: 0.3094 - auc: 0.8323\n",
            "Epoch 11/50\n",
            "119/119 [==============================] - 0s 4ms/step - loss: 0.3086 - auc: 0.8332\n",
            "Epoch 12/50\n",
            "119/119 [==============================] - 1s 4ms/step - loss: 0.3079 - auc: 0.8341\n",
            "Epoch 13/50\n",
            "119/119 [==============================] - 0s 4ms/step - loss: 0.3072 - auc: 0.8350\n",
            "Epoch 14/50\n",
            "119/119 [==============================] - 0s 4ms/step - loss: 0.3067 - auc: 0.8357\n",
            "Epoch 15/50\n",
            "119/119 [==============================] - 0s 4ms/step - loss: 0.3060 - auc: 0.8367\n",
            "Epoch 16/50\n",
            "119/119 [==============================] - 0s 4ms/step - loss: 0.3054 - auc: 0.8373\n",
            "Epoch 17/50\n",
            "119/119 [==============================] - 0s 4ms/step - loss: 0.3047 - auc: 0.8383\n",
            "Epoch 18/50\n",
            "119/119 [==============================] - 0s 4ms/step - loss: 0.3043 - auc: 0.8387\n",
            "Epoch 19/50\n",
            "119/119 [==============================] - 0s 4ms/step - loss: 0.3040 - auc: 0.8392\n",
            "Epoch 20/50\n",
            "119/119 [==============================] - 0s 4ms/step - loss: 0.3032 - auc: 0.8402\n",
            "Epoch 21/50\n",
            "119/119 [==============================] - 0s 4ms/step - loss: 0.3028 - auc: 0.8406\n",
            "Epoch 22/50\n",
            "119/119 [==============================] - 0s 4ms/step - loss: 0.3026 - auc: 0.8408\n",
            "Epoch 23/50\n",
            "119/119 [==============================] - 0s 4ms/step - loss: 0.3019 - auc: 0.8418\n",
            "Epoch 24/50\n",
            "119/119 [==============================] - 0s 4ms/step - loss: 0.3013 - auc: 0.8426\n",
            "Epoch 25/50\n",
            "119/119 [==============================] - 0s 4ms/step - loss: 0.3008 - auc: 0.8430\n",
            "Epoch 26/50\n",
            "119/119 [==============================] - 0s 4ms/step - loss: 0.3005 - auc: 0.8434\n",
            "Epoch 27/50\n",
            "119/119 [==============================] - 1s 4ms/step - loss: 0.2999 - auc: 0.8442\n",
            "Epoch 28/50\n",
            "119/119 [==============================] - 1s 4ms/step - loss: 0.2994 - auc: 0.8448\n",
            "Epoch 29/50\n",
            "119/119 [==============================] - 0s 4ms/step - loss: 0.2989 - auc: 0.8454\n",
            "Epoch 30/50\n",
            "119/119 [==============================] - 0s 4ms/step - loss: 0.2987 - auc: 0.8456\n",
            "Epoch 31/50\n",
            "119/119 [==============================] - 0s 4ms/step - loss: 0.2981 - auc: 0.8465\n",
            "Epoch 32/50\n",
            "119/119 [==============================] - 0s 4ms/step - loss: 0.2975 - auc: 0.8470\n",
            "Epoch 33/50\n",
            "119/119 [==============================] - 0s 4ms/step - loss: 0.2970 - auc: 0.8476\n",
            "Epoch 34/50\n",
            "119/119 [==============================] - 0s 4ms/step - loss: 0.2968 - auc: 0.8479\n",
            "Epoch 35/50\n",
            "119/119 [==============================] - 0s 4ms/step - loss: 0.2964 - auc: 0.8484\n",
            "Epoch 36/50\n",
            "119/119 [==============================] - 0s 4ms/step - loss: 0.2960 - auc: 0.8490\n",
            "Epoch 37/50\n",
            "119/119 [==============================] - 0s 4ms/step - loss: 0.2956 - auc: 0.8495\n",
            "Epoch 38/50\n",
            "119/119 [==============================] - 0s 4ms/step - loss: 0.2955 - auc: 0.8495\n",
            "Epoch 39/50\n",
            "119/119 [==============================] - 0s 4ms/step - loss: 0.2945 - auc: 0.8506\n",
            "Epoch 40/50\n",
            "119/119 [==============================] - 0s 4ms/step - loss: 0.2942 - auc: 0.8510\n",
            "Epoch 41/50\n",
            "119/119 [==============================] - 0s 4ms/step - loss: 0.2940 - auc: 0.8513\n",
            "Epoch 42/50\n",
            "119/119 [==============================] - 0s 4ms/step - loss: 0.2939 - auc: 0.8513\n",
            "Epoch 43/50\n",
            "119/119 [==============================] - 0s 4ms/step - loss: 0.2933 - auc: 0.8521\n",
            "Epoch 44/50\n",
            "119/119 [==============================] - 0s 4ms/step - loss: 0.2929 - auc: 0.8527\n",
            "Epoch 45/50\n",
            "119/119 [==============================] - 0s 4ms/step - loss: 0.2926 - auc: 0.8528\n",
            "Epoch 46/50\n",
            "119/119 [==============================] - 0s 4ms/step - loss: 0.2922 - auc: 0.8535\n",
            "Epoch 47/50\n",
            "119/119 [==============================] - 0s 4ms/step - loss: 0.2919 - auc: 0.8537\n",
            "Epoch 48/50\n",
            "119/119 [==============================] - 0s 4ms/step - loss: 0.2914 - auc: 0.8545\n",
            "Epoch 49/50\n",
            "119/119 [==============================] - 0s 4ms/step - loss: 0.2909 - auc: 0.8550\n",
            "Epoch 50/50\n",
            "119/119 [==============================] - 0s 4ms/step - loss: 0.2908 - auc: 0.8551\n"
          ]
        }
      ]
    },
    {
      "cell_type": "markdown",
      "source": [
        "## Predict"
      ],
      "metadata": {
        "id": "tAvxeiFgSXL-"
      }
    },
    {
      "cell_type": "code",
      "source": [
        "output = model.predict(test_source.iloc[:, 1:].to_numpy())\n",
        "\n",
        "col = [f\"time_slot_{i}\" for i in range(28)]\n",
        "df = pd.DataFrame(output, columns=col)\n",
        "df = pd.concat([test_source.iloc[:, 0], df], axis=1)\n",
        "\n",
        "df.to_csv(\"[CNN_14_drop0.5(16), CNN_21_drop0.5(16), CNN_28_drop0.5(16), LSTM(32, drop=0.375)] output=LSTM, epoch=40.csv\", index=False)"
      ],
      "metadata": {
        "id": "sT8vzx4kN4dU",
        "colab": {
          "base_uri": "https://localhost:8080/"
        },
        "outputId": "9fcc1437-4a5d-410f-ee81-f7340af19488"
      },
      "execution_count": null,
      "outputs": [
        {
          "output_type": "stream",
          "name": "stdout",
          "text": [
            "238/238 [==============================] - 0s 1ms/step\n"
          ]
        }
      ]
    }
  ]
}